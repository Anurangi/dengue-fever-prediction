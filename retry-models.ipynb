{
 "cells": [
  {
   "cell_type": "markdown",
   "metadata": {},
   "source": [
    "#objectives \n",
    "- new data preprocessing and feature engineering \n",
    "-- lag time to account for incubation of disease\n",
    "-- ndvi features are weighted too high in decision tree - new feature from them? remove?\n",
    "- more elegantly test a few models\n",
    "- better code to implement gridsearch cv"
   ]
  },
  {
   "cell_type": "code",
   "execution_count": 2,
   "metadata": {
    "collapsed": false
   },
   "outputs": [],
   "source": [
    "%matplotlib inline\n",
    "\n",
    "import pandas as pd\n",
    "import numpy as np\n",
    "\n",
    "from matplotlib import pyplot as plt\n",
    "import seaborn as sns\n",
    "\n",
    "from sklearn.model_selection import train_test_split\n",
    "import statsmodels.api as sm\n",
    "\n",
    "from sklearn import linear_model\n",
    "from sklearn.linear_model import Ridge, Lasso\n",
    "\n",
    "from sklearn.tree import DecisionTreeRegressor \n",
    "from sklearn.model_selection import GridSearchCV\n",
    "\n",
    "from warnings import filterwarnings\n",
    "filterwarnings('ignore')"
   ]
  },
  {
   "cell_type": "code",
   "execution_count": 85,
   "metadata": {
    "collapsed": false,
    "scrolled": true
   },
   "outputs": [
    {
     "name": "stdout",
     "output_type": "stream",
     "text": [
      "train: (1456, 24)\n",
      "labels: (1456, 4)\n",
      "test: (416, 24)\n"
     ]
    }
   ],
   "source": [
    "train = pd.read_csv('dengue_features_train.csv')\n",
    "labels = pd.read_csv('dengue_labels_train.csv')\n",
    "test = pd.read_csv('dengue_features_test.csv')\n",
    "\n",
    "print(\"train:\", train.shape)\n",
    "print(\"labels:\", labels.shape)\n",
    "print(\"test:\", test.shape)"
   ]
  },
  {
   "cell_type": "code",
   "execution_count": 86,
   "metadata": {
    "collapsed": true
   },
   "outputs": [],
   "source": [
    "both=pd.concat([train, test], axis=0)"
   ]
  },
  {
   "cell_type": "code",
   "execution_count": 87,
   "metadata": {
    "collapsed": false
   },
   "outputs": [
    {
     "data": {
      "text/plain": [
       "(1872, 24)"
      ]
     },
     "execution_count": 87,
     "metadata": {},
     "output_type": "execute_result"
    }
   ],
   "source": [
    "both.shape"
   ]
  },
  {
   "cell_type": "code",
   "execution_count": 88,
   "metadata": {
    "collapsed": false
   },
   "outputs": [],
   "source": [
    "#marker to separate out later on\n",
    "train['origin']='train'\n",
    "test['origin']='test'\n",
    "\n",
    "#combine to jointly do preprocessing\n",
    "both=pd.concat([train, test], axis=0)\n",
    "both.fillna(method='ffill', inplace=True)\n",
    "#new columns for lag time to account for incubation of disease\n",
    "both['week_start_date']=pd.to_datetime(both['week_start_date'])\n",
    "both['date_shifted_2wk'] = both['week_start_date'].apply(lambda x: x - pd.DateOffset(weeks=2))\n",
    "both['date_shifted_1wk'] = both['week_start_date'].apply(lambda x: x - pd.DateOffset(weeks=1))\n",
    "both['weekofyear_shifted_2wk']=both['weekofyear']-2"
   ]
  },
  {
   "cell_type": "code",
   "execution_count": null,
   "metadata": {
    "collapsed": true
   },
   "outputs": [],
   "source": []
  },
  {
   "cell_type": "code",
   "execution_count": 89,
   "metadata": {
    "collapsed": true
   },
   "outputs": [],
   "source": [
    "both['ndvi_all_directions']=(both['ndvi_ne']+both['ndvi_nw']+both['ndvi_se']+both['ndvi_sw'])/4"
   ]
  },
  {
   "cell_type": "code",
   "execution_count": 90,
   "metadata": {
    "collapsed": true
   },
   "outputs": [],
   "source": [
    "def get_ndvi_category(x):\n",
    "    x=float(x)\n",
    "    if x < 0.1: return 'water'\n",
    "    if x >= 0.1 and x <0.2: return 'rock/sand'\n",
    "    if x >=0.2 and x<0.5 : return 'shrub/grassland'\n",
    "    if x > 0.6: return 'forest'\n",
    "    return 'other'"
   ]
  },
  {
   "cell_type": "code",
   "execution_count": 91,
   "metadata": {
    "collapsed": false
   },
   "outputs": [],
   "source": [
    "both['ndvi_desc'] = both.ndvi_all_directions.apply(get_ndvi_category)"
   ]
  },
  {
   "cell_type": "code",
   "execution_count": 92,
   "metadata": {
    "collapsed": true
   },
   "outputs": [],
   "source": [
    "def c2k(t):\n",
    "    return t+273.15"
   ]
  },
  {
   "cell_type": "code",
   "execution_count": 93,
   "metadata": {
    "collapsed": true
   },
   "outputs": [],
   "source": [
    "feature_in_c_list = ['station_max_temp_c', 'station_min_temp_c', 'station_avg_temp_c', 'station_diur_temp_rng_c']"
   ]
  },
  {
   "cell_type": "code",
   "execution_count": 94,
   "metadata": {
    "collapsed": false
   },
   "outputs": [
    {
     "data": {
      "text/plain": [
       "(1872, 30)"
      ]
     },
     "execution_count": 94,
     "metadata": {},
     "output_type": "execute_result"
    }
   ],
   "source": [
    "both.shape"
   ]
  },
  {
   "cell_type": "code",
   "execution_count": 95,
   "metadata": {
    "collapsed": true
   },
   "outputs": [],
   "source": [
    "for i in feature_in_c_list:\n",
    "    both[i]=both[i].apply(c2k)"
   ]
  },
  {
   "cell_type": "code",
   "execution_count": 101,
   "metadata": {
    "collapsed": false
   },
   "outputs": [
    {
     "data": {
      "text/plain": [
       "(1872, 36)"
      ]
     },
     "execution_count": 101,
     "metadata": {},
     "output_type": "execute_result"
    }
   ],
   "source": [
    "both.shape"
   ]
  },
  {
   "cell_type": "code",
   "execution_count": 23,
   "metadata": {
    "collapsed": true
   },
   "outputs": [],
   "source": [
    "#which features to keep?\n",
    "#yourdf.drop(['columnheading1', 'columnheading2'], axis=1, inplace=True)\n",
    "#df = pd.concat([df, pd.get_dummies(df['YEAR'])], axis=1);"
   ]
  },
  {
   "cell_type": "code",
   "execution_count": 100,
   "metadata": {
    "collapsed": false
   },
   "outputs": [],
   "source": [
    "both = pd.concat([both, pd.get_dummies(both['city'])], axis=1)\n",
    "both = pd.concat([both,pd.get_dummies(both['ndvi_desc'])], axis=1)"
   ]
  },
  {
   "cell_type": "code",
   "execution_count": 160,
   "metadata": {
    "collapsed": true
   },
   "outputs": [],
   "source": [
    "columns_keep=[\n",
    "    #'city',\n",
    " #'year',\n",
    " #'weekofyear',\n",
    " #'week_start_date',\n",
    " #'ndvi_ne',\n",
    " #'ndvi_nw',\n",
    " #'ndvi_se',\n",
    " #'ndvi_sw',\n",
    " 'precipitation_amt_mm',\n",
    " 'reanalysis_air_temp_k',\n",
    " 'reanalysis_avg_temp_k',\n",
    " 'reanalysis_dew_point_temp_k',\n",
    " 'reanalysis_max_air_temp_k',\n",
    " 'reanalysis_min_air_temp_k',\n",
    " 'reanalysis_precip_amt_kg_per_m2',\n",
    " 'reanalysis_relative_humidity_percent',\n",
    " 'reanalysis_sat_precip_amt_mm',\n",
    " 'reanalysis_specific_humidity_g_per_kg',\n",
    " 'reanalysis_tdtr_k',\n",
    " 'station_avg_temp_c',\n",
    " 'station_diur_temp_rng_c',\n",
    " 'station_max_temp_c',\n",
    " 'station_min_temp_c',\n",
    " 'station_precip_mm',\n",
    " #'origin',\n",
    " #'date_shifted_2wk',\n",
    " #'date_shifted_1wk',\n",
    " 'weekofyear_shifted_2wk',\n",
    " 'ndvi_all_directions', \n",
    " #'ndvi_desc',\n",
    " 'iq',\n",
    " 'sj',\n",
    " 'other',\n",
    " 'rock/sand',\n",
    " 'shrub/grassland',\n",
    " 'water']"
   ]
  },
  {
   "cell_type": "code",
   "execution_count": 21,
   "metadata": {
    "collapsed": true
   },
   "outputs": [],
   "source": [
    "from sklearn.decomposition import PCA"
   ]
  },
  {
   "cell_type": "code",
   "execution_count": 104,
   "metadata": {
    "collapsed": false,
    "scrolled": false
   },
   "outputs": [
    {
     "name": "stdout",
     "output_type": "stream",
     "text": [
      "PCA(copy=True, iterated_power='auto', n_components=13, random_state=None,\n",
      "  svd_solver='auto', tol=0.0, whiten=False)\n",
      "[  6.89595243e-01   2.41677579e-01   5.50842164e-02   1.01002480e-02\n",
      "   2.72881557e-03   5.68933558e-04   1.23490850e-04   7.67541455e-05\n",
      "   3.61333070e-05   8.41179500e-06   1.75373738e-07   3.76659836e-36\n",
      "   6.85724906e-37]\n"
     ]
    }
   ],
   "source": [
    "# TODO: Apply PCA by fitting the good data with the same number of dimensions as features\n",
    "\n",
    "pca = PCA(n_components=13)\n",
    "pca.fit(both[columns_keep])\n",
    "\n",
    "print(pca)\n",
    "print(pca.explained_variance_ratio_) "
   ]
  },
  {
   "cell_type": "code",
   "execution_count": 105,
   "metadata": {
    "collapsed": false
   },
   "outputs": [
    {
     "data": {
      "text/plain": [
       "(1872, 36)"
      ]
     },
     "execution_count": 105,
     "metadata": {},
     "output_type": "execute_result"
    }
   ],
   "source": [
    "both.shape"
   ]
  },
  {
   "cell_type": "code",
   "execution_count": 108,
   "metadata": {
    "collapsed": false
   },
   "outputs": [],
   "source": [
    "# separate it out\n",
    "train = both[both['origin']=='train']\n",
    "test = both[both['origin']=='test']\n",
    "#iq vs sj\n",
    "iq=train[train['city']=='iq']\n",
    "sj=train[train['city']=='sj']"
   ]
  },
  {
   "cell_type": "code",
   "execution_count": 161,
   "metadata": {
    "collapsed": false,
    "scrolled": true
   },
   "outputs": [
    {
     "data": {
      "text/plain": [
       "DecisionTreeRegressor(criterion='mse', max_depth=None, max_features=None,\n",
       "           max_leaf_nodes=None, min_impurity_split=1e-07,\n",
       "           min_samples_leaf=1, min_samples_split=2,\n",
       "           min_weight_fraction_leaf=0.0, presort=False, random_state=0,\n",
       "           splitter='best')"
      ]
     },
     "execution_count": 161,
     "metadata": {},
     "output_type": "execute_result"
    }
   ],
   "source": [
    "model = DecisionTreeRegressor(random_state=0)\n",
    "X_train=train[columns_keep]\n",
    "#y_train=labels.pop('total_cases')\n",
    "X_test=test[columns_keep]\n",
    "model.fit(X_train, labels['total_cases'])"
   ]
  },
  {
   "cell_type": "code",
   "execution_count": 162,
   "metadata": {
    "collapsed": false
   },
   "outputs": [
    {
     "data": {
      "text/plain": [
       "array([-2.58827672,  0.02645454, -0.46910909, -1.18992804, -9.91603631,\n",
       "       -4.4004343 , -1.05197734, -2.30817619, -0.32051751, -0.89088174])"
      ]
     },
     "execution_count": 162,
     "metadata": {},
     "output_type": "execute_result"
    }
   ],
   "source": [
    "from sklearn.model_selection import cross_val_score\n",
    "scores = cross_val_score(model, X_train, labels['total_cases'], cv=10)\n",
    "scores"
   ]
  },
  {
   "cell_type": "code",
   "execution_count": 163,
   "metadata": {
    "collapsed": false
   },
   "outputs": [
    {
     "name": "stdout",
     "output_type": "stream",
     "text": [
      "-25.2105243269\n",
      "[-36.07534247 -51.80136986 -35.88356164 -22.7260274  -26.10273973\n",
      " -32.15068493 -18.63448276  -9.13103448  -8.73103448 -10.86896552]\n"
     ]
    }
   ],
   "source": [
    "# Including this to remind you that it is necessary to use numpy arrays rather \n",
    "# than lists otherwise you will get an error\n",
    "from sklearn import cross_validation\n",
    "X_digits = np.array(X_train)\n",
    "Y_digits = np.array(labels['total_cases'])\n",
    "\n",
    "scores =cross_val_score(model, X_digits, Y_digits, scoring='neg_mean_absolute_error', cv=10)\n",
    "\n",
    "# This will print the mean of the list of errors that were output and \n",
    "# provide your metric for evaluation\n",
    "print (scores.mean())\n",
    "print(scores)"
   ]
  },
  {
   "cell_type": "code",
   "execution_count": 164,
   "metadata": {
    "collapsed": false
   },
   "outputs": [],
   "source": [
    "importances=model.feature_importances_\n",
    "indices = np.argsort(importances)[::-1]"
   ]
  },
  {
   "cell_type": "code",
   "execution_count": 165,
   "metadata": {
    "collapsed": false
   },
   "outputs": [
    {
     "data": {
      "text/plain": [
       "<matplotlib.text.Text at 0x11067ccc0>"
      ]
     },
     "execution_count": 165,
     "metadata": {},
     "output_type": "execute_result"
    },
    {
     "data": {
      "image/png": "[encoded data removed]",
      "text/plain": [
       "<matplotlib.figure.Figure at 0x110677550>"
      ]
     },
     "metadata": {},
     "output_type": "display_data"
    }
   ],
   "source": [
    "feature_names = X_train.columns\n",
    "\n",
    "f, ax = plt.subplots(figsize=(11, 9))\n",
    "plt.title(\"Feature ranking\", fontsize = 20)\n",
    "plt.bar(range(X_train.shape[1]), importances[indices],\n",
    "    color=\"b\", \n",
    "    align=\"center\")\n",
    "plt.xticks(range(X_train.shape[1]), feature_names, rotation=90 )\n",
    "plt.xlim([-1, X_train.shape[1]])\n",
    "plt.ylabel(\"importance\", fontsize = 18)\n",
    "plt.xlabel(\"index of the feature\", fontsize = 10)"
   ]
  },
  {
   "cell_type": "code",
   "execution_count": 166,
   "metadata": {
    "collapsed": true
   },
   "outputs": [],
   "source": [
    "y_pred = model.predict(X_test)"
   ]
  },
  {
   "cell_type": "code",
   "execution_count": 167,
   "metadata": {
    "collapsed": false
   },
   "outputs": [],
   "source": [
    "submission = pd.read_csv(\"submission_format.csv\",\n",
    "                         index_col=[0, 1, 2])\n",
    "submission.total_cases = np.concatenate([y_pred])\n",
    "submission['total_cases']=submission['total_cases'].astype(int)\n",
    "submission.to_csv(\"submissions/dtr5.csv\")"
   ]
  },
  {
   "cell_type": "code",
   "execution_count": null,
   "metadata": {
    "collapsed": true
   },
   "outputs": [],
   "source": [
    "#should I remove year? probably..."
   ]
  },
  {
   "cell_type": "code",
   "execution_count": null,
   "metadata": {
    "collapsed": true
   },
   "outputs": [],
   "source": [
    "#perform grid search on the best decision tree so far"
   ]
  },
  {
   "cell_type": "code",
   "execution_count": 171,
   "metadata": {
    "collapsed": true
   },
   "outputs": [],
   "source": [
    "param_grid = {\"min_samples_split\": [2, 10, 20],\n",
    "              \"max_depth\": [None, 2, 5, 10],\n",
    "              \"min_samples_leaf\": [1, 5, 10],\n",
    "              \"max_leaf_nodes\": [None, 5, 10, 20],\n",
    "              'max_features': [\"auto\", \"sqrt\", \"log2\"]\n",
    "             \n",
    "             }"
   ]
  },
  {
   "cell_type": "code",
   "execution_count": 172,
   "metadata": {
    "collapsed": false
   },
   "outputs": [
    {
     "name": "stdout",
     "output_type": "stream",
     "text": [
      "-0.377673275717 {'max_depth': 2, 'max_leaf_nodes': None, 'min_samples_leaf': 5, 'max_features': 'sqrt', 'min_samples_split': 10}\n"
     ]
    }
   ],
   "source": [
    "clf = GridSearchCV(DecisionTreeRegressor(), param_grid, n_jobs=4)\n",
    "clf.fit(X_train, labels['total_cases'])\n",
    "tree_model = clf.best_estimator_\n",
    "print (clf.best_score_, clf.best_params_) "
   ]
  },
  {
   "cell_type": "code",
   "execution_count": 173,
   "metadata": {
    "collapsed": true
   },
   "outputs": [],
   "source": [
    "y_pred=tree_model.predict(X_test)\n",
    "submission = pd.read_csv(\"submission_format.csv\",\n",
    "                         index_col=[0, 1, 2])\n",
    "submission.total_cases = np.concatenate([y_pred])\n",
    "submission['total_cases']=submission['total_cases'].astype(int)\n",
    "submission.to_csv(\"submissions/dt_optimized.csv\")"
   ]
  },
  {
   "cell_type": "code",
   "execution_count": null,
   "metadata": {
    "collapsed": true
   },
   "outputs": [],
   "source": []
  }
 ],
 "metadata": {
  "kernelspec": {
   "display_name": "Python 3",
   "language": "python",
   "name": "python3"
  },
  "language_info": {
   "codemirror_mode": {
    "name": "ipython",
    "version": 3
   },
   "file_extension": ".py",
   "mimetype": "text/x-python",
   "name": "python",
   "nbconvert_exporter": "python",
   "pygments_lexer": "ipython3",
   "version": "3.5.2"
  }
 },
 "nbformat": 4,
 "nbformat_minor": 0
}
