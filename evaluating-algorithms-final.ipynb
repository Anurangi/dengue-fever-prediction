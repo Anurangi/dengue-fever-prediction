{
 "cells": [
  {
   "cell_type": "markdown",
   "metadata": {},
   "source": [
    "### Goals: engineer features that highlight the time dimesionality of the data and test out four different algorithms"
   ]
  },
  {
   "cell_type": "code",
   "execution_count": 1,
   "metadata": {
    "collapsed": false
   },
   "outputs": [],
   "source": [
    "%matplotlib inline\n",
    "import pandas as pd\n",
    "import numpy as np\n",
    "import matplotlib.pyplot as plt\n",
    "\n",
    "from warnings import filterwarnings\n",
    "filterwarnings('ignore')"
   ]
  },
  {
   "cell_type": "code",
   "execution_count": 2,
   "metadata": {
    "collapsed": true
   },
   "outputs": [],
   "source": [
    "#load dataset\n",
    "df=pd.read_csv('dengue_features_train.csv')\n",
    "labels = pd.read_csv('dengue_labels_train.csv')\n",
    "test = pd.read_csv('dengue_features_test.csv')\n",
    "#fill NaNs\n",
    "df.fillna(method='ffill', inplace=True)\n",
    "test.fillna(method='ffill', inplace=True)\n",
    "#to datetime\n",
    "df['week_start_date']=pd.to_datetime(df['week_start_date'])\n",
    "test['week_start_date']=pd.to_datetime(test['week_start_date'])\n",
    "#extract month to new column\n",
    "df['month']=df.week_start_date.dt.month\n",
    "test['month']=test.week_start_date.dt.month"
   ]
  },
  {
   "cell_type": "code",
   "execution_count": 3,
   "metadata": {
    "collapsed": true
   },
   "outputs": [],
   "source": [
    "df=pd.merge(df, labels, on=['city', 'year', 'weekofyear'])"
   ]
  },
  {
   "cell_type": "markdown",
   "metadata": {},
   "source": [
    "## preprocessing - just experimenting here to figure out what features will help increase predictive performance\n",
    "\n",
    "#### lag columns, take rolling averages, historical dengue counts"
   ]
  },
  {
   "cell_type": "code",
   "execution_count": 4,
   "metadata": {
    "collapsed": true
   },
   "outputs": [],
   "source": [
    "#idea historical average dengue counts and climate for that week in the year"
   ]
  },
  {
   "cell_type": "code",
   "execution_count": 5,
   "metadata": {
    "collapsed": false
   },
   "outputs": [],
   "source": [
    "#for each city, on that week, what is the avg num cases and overall std over the years?\n",
    "df=df.join(df.groupby(['city','weekofyear'])['total_cases'].mean(), on=['city','weekofyear'], rsuffix='_avg')\n",
    "df=df.join(df.groupby(['city','weekofyear'])['total_cases'].std(), on=['city','weekofyear'], rsuffix='_std')"
   ]
  },
  {
   "cell_type": "code",
   "execution_count": 6,
   "metadata": {
    "collapsed": true
   },
   "outputs": [],
   "source": [
    "#for each city, on that week, what is the avg num cases and overall std over the years?\n",
    "test=test.join(df.groupby(['city','weekofyear'])['total_cases'].mean(), on=['city','weekofyear'], rsuffix='_avg')\n",
    "test=test.join(df.groupby(['city','weekofyear'])['total_cases'].std(), on=['city','weekofyear'], rsuffix='_std')"
   ]
  },
  {
   "cell_type": "code",
   "execution_count": 7,
   "metadata": {
    "collapsed": false
   },
   "outputs": [
    {
     "data": {
      "text/html": [
       "<div>\n",
       "<table border=\"1\" class=\"dataframe\">\n",
       "  <thead>\n",
       "    <tr style=\"text-align: right;\">\n",
       "      <th></th>\n",
       "      <th>city</th>\n",
       "      <th>year</th>\n",
       "      <th>weekofyear</th>\n",
       "      <th>week_start_date</th>\n",
       "      <th>ndvi_ne</th>\n",
       "      <th>ndvi_nw</th>\n",
       "      <th>ndvi_se</th>\n",
       "      <th>ndvi_sw</th>\n",
       "      <th>precipitation_amt_mm</th>\n",
       "      <th>reanalysis_air_temp_k</th>\n",
       "      <th>...</th>\n",
       "      <th>reanalysis_specific_humidity_g_per_kg</th>\n",
       "      <th>reanalysis_tdtr_k</th>\n",
       "      <th>station_avg_temp_c</th>\n",
       "      <th>station_diur_temp_rng_c</th>\n",
       "      <th>station_max_temp_c</th>\n",
       "      <th>station_min_temp_c</th>\n",
       "      <th>station_precip_mm</th>\n",
       "      <th>month</th>\n",
       "      <th>total_cases_avg</th>\n",
       "      <th>total_cases_std</th>\n",
       "    </tr>\n",
       "  </thead>\n",
       "  <tbody>\n",
       "    <tr>\n",
       "      <th>0</th>\n",
       "      <td>sj</td>\n",
       "      <td>2008</td>\n",
       "      <td>18</td>\n",
       "      <td>2008-04-29</td>\n",
       "      <td>-0.0189</td>\n",
       "      <td>-0.018900</td>\n",
       "      <td>0.102729</td>\n",
       "      <td>0.091200</td>\n",
       "      <td>78.60</td>\n",
       "      <td>298.492857</td>\n",
       "      <td>...</td>\n",
       "      <td>15.918571</td>\n",
       "      <td>3.128571</td>\n",
       "      <td>26.528571</td>\n",
       "      <td>7.057143</td>\n",
       "      <td>33.3</td>\n",
       "      <td>21.7</td>\n",
       "      <td>75.2</td>\n",
       "      <td>4</td>\n",
       "      <td>10.722222</td>\n",
       "      <td>9.144626</td>\n",
       "    </tr>\n",
       "    <tr>\n",
       "      <th>1</th>\n",
       "      <td>sj</td>\n",
       "      <td>2008</td>\n",
       "      <td>19</td>\n",
       "      <td>2008-05-06</td>\n",
       "      <td>-0.0180</td>\n",
       "      <td>-0.012400</td>\n",
       "      <td>0.082043</td>\n",
       "      <td>0.072314</td>\n",
       "      <td>12.56</td>\n",
       "      <td>298.475714</td>\n",
       "      <td>...</td>\n",
       "      <td>15.791429</td>\n",
       "      <td>2.571429</td>\n",
       "      <td>26.071429</td>\n",
       "      <td>5.557143</td>\n",
       "      <td>30.0</td>\n",
       "      <td>22.2</td>\n",
       "      <td>34.3</td>\n",
       "      <td>5</td>\n",
       "      <td>9.944444</td>\n",
       "      <td>8.881390</td>\n",
       "    </tr>\n",
       "    <tr>\n",
       "      <th>2</th>\n",
       "      <td>sj</td>\n",
       "      <td>2008</td>\n",
       "      <td>20</td>\n",
       "      <td>2008-05-13</td>\n",
       "      <td>-0.0015</td>\n",
       "      <td>-0.012400</td>\n",
       "      <td>0.151083</td>\n",
       "      <td>0.091529</td>\n",
       "      <td>3.66</td>\n",
       "      <td>299.455714</td>\n",
       "      <td>...</td>\n",
       "      <td>16.674286</td>\n",
       "      <td>4.428571</td>\n",
       "      <td>27.928571</td>\n",
       "      <td>7.785714</td>\n",
       "      <td>32.8</td>\n",
       "      <td>22.8</td>\n",
       "      <td>3.0</td>\n",
       "      <td>5</td>\n",
       "      <td>11.500000</td>\n",
       "      <td>11.510864</td>\n",
       "    </tr>\n",
       "    <tr>\n",
       "      <th>3</th>\n",
       "      <td>sj</td>\n",
       "      <td>2008</td>\n",
       "      <td>21</td>\n",
       "      <td>2008-05-20</td>\n",
       "      <td>-0.0015</td>\n",
       "      <td>-0.019867</td>\n",
       "      <td>0.124329</td>\n",
       "      <td>0.125686</td>\n",
       "      <td>0.00</td>\n",
       "      <td>299.690000</td>\n",
       "      <td>...</td>\n",
       "      <td>15.775714</td>\n",
       "      <td>4.342857</td>\n",
       "      <td>28.057143</td>\n",
       "      <td>6.271429</td>\n",
       "      <td>33.3</td>\n",
       "      <td>24.4</td>\n",
       "      <td>0.3</td>\n",
       "      <td>5</td>\n",
       "      <td>11.166667</td>\n",
       "      <td>12.234234</td>\n",
       "    </tr>\n",
       "    <tr>\n",
       "      <th>4</th>\n",
       "      <td>sj</td>\n",
       "      <td>2008</td>\n",
       "      <td>22</td>\n",
       "      <td>2008-05-27</td>\n",
       "      <td>0.0568</td>\n",
       "      <td>0.039833</td>\n",
       "      <td>0.062267</td>\n",
       "      <td>0.075914</td>\n",
       "      <td>0.76</td>\n",
       "      <td>299.780000</td>\n",
       "      <td>...</td>\n",
       "      <td>16.137143</td>\n",
       "      <td>3.542857</td>\n",
       "      <td>27.614286</td>\n",
       "      <td>7.085714</td>\n",
       "      <td>33.3</td>\n",
       "      <td>23.3</td>\n",
       "      <td>84.1</td>\n",
       "      <td>5</td>\n",
       "      <td>13.777778</td>\n",
       "      <td>10.919791</td>\n",
       "    </tr>\n",
       "  </tbody>\n",
       "</table>\n",
       "<p>5 rows × 27 columns</p>\n",
       "</div>"
      ],
      "text/plain": [
       "  city  year  weekofyear week_start_date  ndvi_ne   ndvi_nw   ndvi_se  \\\n",
       "0   sj  2008          18      2008-04-29  -0.0189 -0.018900  0.102729   \n",
       "1   sj  2008          19      2008-05-06  -0.0180 -0.012400  0.082043   \n",
       "2   sj  2008          20      2008-05-13  -0.0015 -0.012400  0.151083   \n",
       "3   sj  2008          21      2008-05-20  -0.0015 -0.019867  0.124329   \n",
       "4   sj  2008          22      2008-05-27   0.0568  0.039833  0.062267   \n",
       "\n",
       "    ndvi_sw  precipitation_amt_mm  reanalysis_air_temp_k       ...         \\\n",
       "0  0.091200                 78.60             298.492857       ...          \n",
       "1  0.072314                 12.56             298.475714       ...          \n",
       "2  0.091529                  3.66             299.455714       ...          \n",
       "3  0.125686                  0.00             299.690000       ...          \n",
       "4  0.075914                  0.76             299.780000       ...          \n",
       "\n",
       "   reanalysis_specific_humidity_g_per_kg  reanalysis_tdtr_k  \\\n",
       "0                              15.918571           3.128571   \n",
       "1                              15.791429           2.571429   \n",
       "2                              16.674286           4.428571   \n",
       "3                              15.775714           4.342857   \n",
       "4                              16.137143           3.542857   \n",
       "\n",
       "   station_avg_temp_c  station_diur_temp_rng_c  station_max_temp_c  \\\n",
       "0           26.528571                 7.057143                33.3   \n",
       "1           26.071429                 5.557143                30.0   \n",
       "2           27.928571                 7.785714                32.8   \n",
       "3           28.057143                 6.271429                33.3   \n",
       "4           27.614286                 7.085714                33.3   \n",
       "\n",
       "   station_min_temp_c  station_precip_mm  month  total_cases_avg  \\\n",
       "0                21.7               75.2      4        10.722222   \n",
       "1                22.2               34.3      5         9.944444   \n",
       "2                22.8                3.0      5        11.500000   \n",
       "3                24.4                0.3      5        11.166667   \n",
       "4                23.3               84.1      5        13.777778   \n",
       "\n",
       "   total_cases_std  \n",
       "0         9.144626  \n",
       "1         8.881390  \n",
       "2        11.510864  \n",
       "3        12.234234  \n",
       "4        10.919791  \n",
       "\n",
       "[5 rows x 27 columns]"
      ]
     },
     "execution_count": 7,
     "metadata": {},
     "output_type": "execute_result"
    }
   ],
   "source": [
    "#quick column fix\n",
    "test.rename(columns={'total_cases': 'total_cases_avg'}, inplace=True)\n",
    "test.head()"
   ]
  },
  {
   "cell_type": "code",
   "execution_count": 8,
   "metadata": {
    "collapsed": true
   },
   "outputs": [],
   "source": [
    "# #plan to lag these columns 3 weeks \n",
    "# #this lag did not greatly improve model performance, the rolling avg was better\n",
    "cols_to_lag=[\n",
    " 'precipitation_amt_mm',\n",
    " 'reanalysis_air_temp_k',\n",
    " 'reanalysis_avg_temp_k',\n",
    " 'reanalysis_dew_point_temp_k',\n",
    " 'reanalysis_max_air_temp_k',\n",
    " 'reanalysis_min_air_temp_k',\n",
    " 'reanalysis_precip_amt_kg_per_m2',\n",
    " 'reanalysis_relative_humidity_percent',\n",
    " 'reanalysis_sat_precip_amt_mm',\n",
    " 'reanalysis_specific_humidity_g_per_kg',\n",
    " 'reanalysis_tdtr_k',\n",
    " 'station_precip_mm',\n",
    " ]"
   ]
  },
  {
   "cell_type": "code",
   "execution_count": 9,
   "metadata": {
    "collapsed": true
   },
   "outputs": [],
   "source": [
    "for col in cols_to_lag:\n",
    "    df['lagged_'+col] = df[col].shift(2)\n",
    "\n",
    "for col in cols_to_lag:\n",
    "    test['lagged_'+col] = test[col].shift(2)"
   ]
  },
  {
   "cell_type": "code",
   "execution_count": 10,
   "metadata": {
    "collapsed": true
   },
   "outputs": [],
   "source": [
    "lagged_cols=[\n",
    "\n",
    " 'lagged_precipitation_amt_mm',\n",
    " 'lagged_reanalysis_air_temp_k',\n",
    " 'lagged_reanalysis_avg_temp_k',\n",
    " 'lagged_reanalysis_dew_point_temp_k',\n",
    " 'lagged_reanalysis_max_air_temp_k',\n",
    " 'lagged_reanalysis_min_air_temp_k',\n",
    " 'lagged_reanalysis_precip_amt_kg_per_m2',\n",
    " 'lagged_reanalysis_relative_humidity_percent',\n",
    " 'lagged_reanalysis_sat_precip_amt_mm',\n",
    " 'lagged_reanalysis_specific_humidity_g_per_kg',\n",
    " 'lagged_reanalysis_tdtr_k',\n",
    " 'lagged_station_precip_mm',\n",
    "]"
   ]
  },
  {
   "cell_type": "code",
   "execution_count": 11,
   "metadata": {
    "collapsed": false
   },
   "outputs": [],
   "source": [
    "# #fill NaNs after the lag\n",
    "# df=df.fillna(df.groupby(\"month\").transform(lambda x: x.fillna(x.mean())))\n",
    "# test=test.fillna(test.groupby(\"month\").transform(lambda x: x.fillna(x.mean())))"
   ]
  },
  {
   "cell_type": "code",
   "execution_count": 12,
   "metadata": {
    "collapsed": true
   },
   "outputs": [],
   "source": [
    "#define cols for moving avg\n",
    "feature_cols1=[\n",
    "    'reanalysis_min_air_temp_k',\n",
    "    #'month',\n",
    "    'reanalysis_air_temp_k',\n",
    "    'reanalysis_avg_temp_k',\n",
    "    'reanalysis_dew_point_temp_k',\n",
    "    'reanalysis_specific_humidity_g_per_kg',\n",
    "    'reanalysis_sat_precip_amt_mm',\n",
    "    'ndvi_ne',\n",
    "    'ndvi_nw',\n",
    "    'ndvi_se',\n",
    "    'ndvi_sw',\n",
    "    ]"
   ]
  },
  {
   "cell_type": "code",
   "execution_count": 13,
   "metadata": {
    "collapsed": true
   },
   "outputs": [],
   "source": [
    "#loop to make the columns with rolling averages on independent vars\n",
    "#takes the avg of prior 3 weeks\n",
    "for col in feature_cols1:\n",
    "    df['rolling_'+col] = pd.rolling_mean(df[col], 3)\n",
    "    test['rolling_'+col] = pd.rolling_mean(df[col], 3)"
   ]
  },
  {
   "cell_type": "code",
   "execution_count": 14,
   "metadata": {
    "collapsed": true
   },
   "outputs": [],
   "source": [
    "for col in feature_cols1:\n",
    "    df['wk_avg_'+col] = df.groupby(['city','weekofyear'])[col].transform('mean')\n",
    "    test['wk_avg_'+col] = test.groupby(['city','weekofyear'])[col].transform('mean')"
   ]
  },
  {
   "cell_type": "code",
   "execution_count": 15,
   "metadata": {
    "collapsed": false
   },
   "outputs": [],
   "source": [
    "for col in feature_cols1:\n",
    "    df['mo_avg_'+col] = df.groupby(['city','month'])[col].transform('mean')\n",
    "    test['mo_avg_'+col] = test.groupby(['city','month'])[col].transform('mean')"
   ]
  },
  {
   "cell_type": "code",
   "execution_count": 16,
   "metadata": {
    "collapsed": true
   },
   "outputs": [],
   "source": [
    "# # #engineer column to identify worst months for dengue in each location\n",
    "# #this didn't help much either so am commenting it out here\n",
    "# def bad_mo_sj (x):\n",
    "#     if x == 10: return 1\n",
    "#     if x == 11: return 1\n",
    "#     if x == 9: return 1\n",
    "#     return 0\n",
    "\n",
    "# def bad_mo_iq (x):\n",
    "#     if x == 1: return 1\n",
    "#     if x == 12: return 1\n",
    "#     if x == 2: return 1\n",
    "#     return 0"
   ]
  },
  {
   "cell_type": "code",
   "execution_count": 17,
   "metadata": {
    "collapsed": true
   },
   "outputs": [],
   "source": [
    "# #create the new column\n",
    "# sj['key_months'] = sj.month.apply(bad_mo_sj)\n",
    "# iq['key_months'] = iq.month.apply(bad_mo_iq)\n",
    "# sj_test['key_months'] = sj_test.month.apply(bad_mo_sj)\n",
    "# iq_test['key_months'] = iq_test.month.apply(bad_mo_iq)"
   ]
  },
  {
   "cell_type": "code",
   "execution_count": 18,
   "metadata": {
    "collapsed": false
   },
   "outputs": [],
   "source": [
    "# lagged_features=[\n",
    "#     'lagged_reanalysis_min_air_temp_k',\n",
    "#     'month',\n",
    "#     'lagged_reanalysis_air_temp_k',\n",
    "#     'lagged_reanalysis_avg_temp_k',\n",
    "#     'lagged_reanalysis_dew_point_temp_k',\n",
    "#     'lagged_reanalysis_sat_precip_amt_mm',\n",
    "#     'lagged_reanalysis_specific_humidity_g_per_kg',\n",
    "#     'mo_avg_reanalysis_min_air_temp_k',\n",
    "#     'mo_avg_reanalysis_air_temp_k',\n",
    "#     'mo_avg_reanalysis_avg_temp_k',\n",
    "#     'mo_avg_reanalysis_dew_point_temp_k'\n",
    "#     'mo_avg_reanalysis_specific_humidity_g_per_kg',\n",
    "#     'mo_avg_reanalysis_sat_precip_amt_mm',\n",
    "#     'mo_avg_ndvi_ne',\n",
    "#     'ndvi_ne',\n",
    "#     'mo_avg_ndvi_nw',\n",
    "#     'mo_avg_ndvi_se',\n",
    "#     'mo_avg_ndvi_sw',\n",
    "#     'key_months']"
   ]
  },
  {
   "cell_type": "markdown",
   "metadata": {},
   "source": [
    "### I tried out many, many combinations of the features below"
   ]
  },
  {
   "cell_type": "code",
   "execution_count": 19,
   "metadata": {
    "collapsed": false
   },
   "outputs": [],
   "source": [
    "features=[\n",
    "# #  'city',\n",
    "#  'year',\n",
    "  'weekofyear',\n",
    "# #  'week_start_date',\n",
    "# #  'ndvi_ne',\n",
    "# #  'ndvi_nw',\n",
    "# #  'ndvi_se',\n",
    "# #  'ndvi_sw',\n",
    "#  'precipitation_amt_mm',\n",
    "#  'reanalysis_air_temp_k',\n",
    "   'reanalysis_avg_temp_k', ##to use\n",
    "   'reanalysis_dew_point_temp_k',##to use\n",
    "# #  'reanalysis_max_air_temp_k',\n",
    "   'reanalysis_min_air_temp_k',##to use\n",
    "# #  'reanalysis_precip_amt_kg_per_m2',\n",
    "# #  'reanalysis_relative_humidity_percent',\n",
    "# #  'reanalysis_sat_precip_amt_mm',\n",
    "   'reanalysis_specific_humidity_g_per_kg',##to use\n",
    "#   'reanalysis_tdtr_k',\n",
    "#   'station_avg_temp_c',\n",
    "#   'station_diur_temp_rng_c',\n",
    "#   'station_max_temp_c',\n",
    "#   'station_min_temp_c',\n",
    "#   'station_precip_mm',\n",
    " 'month',\n",
    "# #  'total_cases',  #can't have target in feat list now can we lol\n",
    "  'total_cases_avg',\n",
    "# #  'total_cases_std',\n",
    "  'mo_avg_reanalysis_min_air_temp_k',\n",
    " 'mo_avg_reanalysis_air_temp_k',\n",
    " #'mo_avg_reanalysis_avg_temp_k',\n",
    " 'mo_avg_reanalysis_dew_point_temp_k',\n",
    "  'mo_avg_reanalysis_specific_humidity_g_per_kg',\n",
    "#  'mo_avg_reanalysis_sat_precip_amt_mm',\n",
    "# #  'mo_avg_ndvi_ne',\n",
    "# #  'mo_avg_ndvi_nw',\n",
    "# #  'mo_avg_ndvi_se',\n",
    "# #  'mo_avg_ndvi_sw',\n",
    "#   'wk_avg_reanalysis_min_air_temp_k',\n",
    "# #  'wk_avg_reanalysis_air_temp_k',\n",
    "#   'wk_avg_reanalysis_avg_temp_k',\n",
    "#   'wk_avg_reanalysis_dew_point_temp_k',\n",
    "#   'wk_avg_reanalysis_specific_humidity_g_per_kg',\n",
    "# #  'wk_avg_reanalysis_sat_precip_amt_mm',\n",
    "#  'wk_avg_ndvi_ne',\n",
    "#  'wk_avg_ndvi_nw',\n",
    "#  'wk_avg_ndvi_se',\n",
    "#  'wk_avg_ndvi_sw',\n",
    "#   'rolling_reanalysis_min_air_temp_k',\n",
    "#   'rolling_reanalysis_air_temp_k',\n",
    "# #  'rolling_reanalysis_avg_temp_k',\n",
    "#   'rolling_reanalysis_dew_point_temp_k',\n",
    "#   'rolling_reanalysis_specific_humidity_g_per_kg',\n",
    "# #  'rolling_reanalysis_sat_precip_amt_mm'\n",
    "# #    'key_months'\n",
    "#  'lagged_precipitation_amt_mm',\n",
    "#  'lagged_reanalysis_air_temp_k',\n",
    "#   'lagged_reanalysis_avg_temp_k',\n",
    "#   'lagged_reanalysis_dew_point_temp_k',\n",
    "# #  'lagged_reanalysis_max_air_temp_k',\n",
    "#   'lagged_reanalysis_min_air_temp_k',\n",
    "# #  'lagged_reanalysis_precip_amt_kg_per_m2',\n",
    "# #  'lagged_reanalysis_relative_humidity_percent',\n",
    "# #  'lagged_reanalysis_sat_precip_amt_mm',\n",
    "#   'lagged_reanalysis_specific_humidity_g_per_kg',\n",
    "#  'lagged_reanalysis_tdtr_k',\n",
    "#  'lagged_station_precip_mm',\n",
    " ]"
   ]
  },
  {
   "cell_type": "code",
   "execution_count": 20,
   "metadata": {
    "collapsed": true
   },
   "outputs": [],
   "source": [
    "#fill resulting NaNs from the lag functions\n",
    "df.fillna(method='bfill', inplace=True)\n",
    "test.fillna(method='bfill', inplace=True)"
   ]
  },
  {
   "cell_type": "code",
   "execution_count": 21,
   "metadata": {
    "collapsed": true
   },
   "outputs": [],
   "source": [
    "df.to_csv('train_edited.csv')"
   ]
  },
  {
   "cell_type": "code",
   "execution_count": 22,
   "metadata": {
    "collapsed": true
   },
   "outputs": [],
   "source": [
    "# separate san juan and iquitos\n",
    "sj = df[df['city']=='sj']\n",
    "iq = df[df['city']=='iq']\n",
    "\n",
    "sj_test=test[test['city']=='sj']\n",
    "iq_test=test[test['city']=='iq']"
   ]
  },
  {
   "cell_type": "markdown",
   "metadata": {},
   "source": [
    "## Algorithms for comparison"
   ]
  },
  {
   "cell_type": "code",
   "execution_count": 23,
   "metadata": {
    "collapsed": true
   },
   "outputs": [],
   "source": [
    "from sklearn import model_selection\n",
    "from sklearn import linear_model\n",
    "from sklearn.tree import DecisionTreeRegressor\n",
    "from sklearn.ensemble import RandomForestRegressor\n",
    "from sklearn.svm import SVR"
   ]
  },
  {
   "cell_type": "code",
   "execution_count": 24,
   "metadata": {
    "collapsed": true
   },
   "outputs": [],
   "source": [
    "sj_train_subtrain = sj.head(800)\n",
    "sj_train_subtest = sj.tail(sj.shape[0] - 800)\n",
    "\n",
    "iq_train_subtrain = iq.head(400)\n",
    "iq_train_subtest = iq.tail(iq.shape[0] - 400)"
   ]
  },
  {
   "cell_type": "code",
   "execution_count": 25,
   "metadata": {
    "collapsed": false,
    "scrolled": true
   },
   "outputs": [
    {
     "name": "stdout",
     "output_type": "stream",
     "text": [
      "LR: -27.334679 (14.158445)\n",
      "DT: -36.650755 (12.873181)\n",
      "RFR: -30.135382 (13.954505)\n",
      "SVR: -22.747621 (18.143094)\n"
     ]
    },
    {
     "data": {
      "image/png": "[encoded data removed]",
      "text/plain": [
       "<matplotlib.figure.Figure at 0x11088a1d0>"
      ]
     },
     "metadata": {},
     "output_type": "display_data"
    }
   ],
   "source": [
    "#code reference: Machine Learning Mastery - http://machinelearningmastery.com/\n",
    "#set x and y\n",
    "\n",
    "X= sj[features]\n",
    "Y = sj['total_cases']\n",
    "\n",
    "# prepare configuration for cross validation test harness\n",
    "seed = 7\n",
    "# prepare models\n",
    "models = []\n",
    "models.append(('LR', linear_model.LinearRegression()))\n",
    "models.append(('DT', DecisionTreeRegressor()))\n",
    "models.append(('RFR', RandomForestRegressor()))\n",
    "models.append(('SVR', SVR()))\n",
    "# evaluate each model in turn\n",
    "results = []\n",
    "names = []\n",
    "scoring = 'neg_mean_absolute_error'\n",
    "for name, model in models:\n",
    "\tkfold = model_selection.KFold(n_splits=10, random_state=seed)\n",
    "\tcv_results = model_selection.cross_val_score(model, X, Y, cv=kfold, scoring='neg_mean_absolute_error')\n",
    "\tresults.append(cv_results)\n",
    "\tnames.append(name)\n",
    "\tmsg = \"%s: %f (%f)\" % (name, cv_results.mean(), cv_results.std())\n",
    "\tprint(msg)\n",
    "# boxplot algorithm comparison\n",
    "fig = plt.figure()\n",
    "fig.suptitle('Algorithm Comparison')\n",
    "ax = fig.add_subplot(111)\n",
    "plt.boxplot(results)\n",
    "ax.set_xticklabels(names)\n",
    "plt.show()"
   ]
  },
  {
   "cell_type": "code",
   "execution_count": 26,
   "metadata": {
    "collapsed": false,
    "scrolled": false
   },
   "outputs": [
    {
     "name": "stdout",
     "output_type": "stream",
     "text": [
      "LR: -6.794044 (1.506963)\n",
      "DT: -8.315385 (2.437400)\n",
      "RFR: -7.409808 (1.885796)\n",
      "SVR: -6.061310 (2.617470)\n"
     ]
    },
    {
     "data": {
      "image/png": "[encoded data removed]",
      "text/plain": [
       "<matplotlib.figure.Figure at 0x113bb9c88>"
      ]
     },
     "metadata": {},
     "output_type": "display_data"
    }
   ],
   "source": [
    "## IQUITOS\n",
    "X= iq[features]\n",
    "Y = iq['total_cases']\n",
    "\n",
    "# prepare configuration for cross validation test harness\n",
    "seed = 7\n",
    "# prepare models\n",
    "models = []\n",
    "models.append(('LR', linear_model.LinearRegression()))\n",
    "models.append(('DT', DecisionTreeRegressor()))\n",
    "models.append(('RFR', RandomForestRegressor()))\n",
    "models.append(('SVR', SVR()))\n",
    "# evaluate each model in turn\n",
    "results = []\n",
    "names = []\n",
    "scoring = 'neg_mean_absolute_error'\n",
    "for name, model in models:\n",
    "\tkfold = model_selection.KFold(n_splits=10, random_state=seed)\n",
    "\tcv_results = model_selection.cross_val_score(model, X, Y, cv=kfold, scoring='neg_mean_absolute_error')\n",
    "\tresults.append(cv_results)\n",
    "\tnames.append(name)\n",
    "\tmsg = \"%s: %f (%f)\" % (name, cv_results.mean(), cv_results.std())\n",
    "\tprint(msg)\n",
    "# boxplot algorithm comparison\n",
    "fig = plt.figure()\n",
    "fig.suptitle('Algorithm Comparison')\n",
    "ax = fig.add_subplot(111)\n",
    "plt.boxplot(results)\n",
    "ax.set_xticklabels(names)\n",
    "plt.show()"
   ]
  },
  {
   "cell_type": "markdown",
   "metadata": {},
   "source": [
    "### visualize the importances of selected features"
   ]
  },
  {
   "cell_type": "code",
   "execution_count": 27,
   "metadata": {
    "collapsed": false,
    "scrolled": true
   },
   "outputs": [
    {
     "name": "stdout",
     "output_type": "stream",
     "text": [
      "Feature ranking:\n",
      "1. feature 1 (0.252675)\n",
      "2. feature 2 (0.241635)\n",
      "3. feature 6 (0.187359)\n",
      "4. feature 4 (0.150517)\n",
      "5. feature 0 (0.085725)\n",
      "6. feature 3 (0.069117)\n",
      "7. feature 7 (0.007964)\n",
      "8. feature 10 (0.002060)\n",
      "9. feature 8 (0.001361)\n",
      "10. feature 9 (0.000881)\n",
      "11. feature 5 (0.000706)\n"
     ]
    },
    {
     "data": {
      "text/plain": [
       "<matplotlib.text.Text at 0x113d77828>"
      ]
     },
     "execution_count": 27,
     "metadata": {},
     "output_type": "execute_result"
    },
    {
     "data": {
      "image/png": "[encoded data removed]",
      "text/plain": [
       "<matplotlib.figure.Figure at 0x113d64b38>"
      ]
     },
     "metadata": {},
     "output_type": "display_data"
    }
   ],
   "source": [
    "X= sj[features]\n",
    "Y = sj['total_cases']\n",
    "\n",
    "model =DecisionTreeRegressor()\n",
    "model.fit(X,Y)\n",
    "model.predict(sj_test[features])\n",
    "\n",
    "importances=model.feature_importances_\n",
    "indices = np.argsort(importances)[::-1]\n",
    "\n",
    "# Print the feature ranking\n",
    "print(\"Feature ranking:\")\n",
    "\n",
    "for f in range(X.shape[1]):\n",
    "    print(\"%d. feature %d (%f)\" % (f + 1, indices[f], importances[indices[f]]))\n",
    "\n",
    "feature_names = X.columns\n",
    "\n",
    "f, ax = plt.subplots(figsize=(7, 4))\n",
    "plt.title(\"Feature ranking\", fontsize = 14)\n",
    "plt.bar(range(X.shape[1]), importances[indices],\n",
    "    color=\"b\", \n",
    "    align=\"center\")\n",
    "plt.xticks(range(X.shape[1]), feature_names, rotation=90 )\n",
    "plt.xlim([-1, X.shape[1]])\n",
    "plt.ylabel(\"importance\", fontsize = 10)\n",
    "plt.xlabel(\"index of the feature\", fontsize = 10)"
   ]
  },
  {
   "cell_type": "code",
   "execution_count": 28,
   "metadata": {
    "collapsed": false,
    "scrolled": true
   },
   "outputs": [
    {
     "name": "stdout",
     "output_type": "stream",
     "text": [
      "Feature ranking:\n",
      "1. feature 1 (0.291184)\n",
      "2. feature 6 (0.189720)\n",
      "3. feature 3 (0.173528)\n",
      "4. feature 4 (0.162601)\n",
      "5. feature 2 (0.113535)\n",
      "6. feature 0 (0.039786)\n",
      "7. feature 7 (0.011293)\n",
      "8. feature 5 (0.006909)\n",
      "9. feature 8 (0.004574)\n",
      "10. feature 9 (0.003681)\n",
      "11. feature 10 (0.003189)\n"
     ]
    },
    {
     "data": {
      "text/plain": [
       "<matplotlib.text.Text at 0x113dd8940>"
      ]
     },
     "execution_count": 28,
     "metadata": {},
     "output_type": "execute_result"
    },
    {
     "data": {
      "image/png": "[encoded data removed]",
      "text/plain": [
       "<matplotlib.figure.Figure at 0x113dc4ef0>"
      ]
     },
     "metadata": {},
     "output_type": "display_data"
    }
   ],
   "source": [
    "X= iq[features]\n",
    "Y = iq['total_cases']\n",
    "\n",
    "model =DecisionTreeRegressor()\n",
    "model.fit(X,Y)\n",
    "model.predict(iq_test[features])\n",
    "\n",
    "importances=model.feature_importances_\n",
    "indices = np.argsort(importances)[::-1]\n",
    "\n",
    "# Print the feature ranking\n",
    "print(\"Feature ranking:\")\n",
    "\n",
    "for f in range(X.shape[1]):\n",
    "    print(\"%d. feature %d (%f)\" % (f + 1, indices[f], importances[indices[f]]))\n",
    "\n",
    "feature_names = X.columns\n",
    "\n",
    "f, ax = plt.subplots(figsize=(7, 4))\n",
    "plt.title(\"Feature ranking\", fontsize = 14)\n",
    "plt.bar(range(X.shape[1]), importances[indices],\n",
    "    color=\"b\", \n",
    "    align=\"center\")\n",
    "plt.xticks(range(X.shape[1]), feature_names, rotation=90 )\n",
    "plt.xlim([-1, X.shape[1]])\n",
    "plt.ylabel(\"importance\", fontsize = 10)\n",
    "plt.xlabel(\"index of the feature\", fontsize = 10)"
   ]
  },
  {
   "cell_type": "markdown",
   "metadata": {},
   "source": [
    "### perform gridsearch on support vector regressor"
   ]
  },
  {
   "cell_type": "code",
   "execution_count": 29,
   "metadata": {
    "collapsed": true
   },
   "outputs": [],
   "source": [
    "from sklearn.model_selection import GridSearchCV\n",
    "import time as time"
   ]
  },
  {
   "cell_type": "code",
   "execution_count": 30,
   "metadata": {
    "collapsed": false
   },
   "outputs": [],
   "source": [
    "X_sj= sj[features]\n",
    "Y_sj = sj['total_cases']\n",
    "\n",
    "X_iq= iq[features]\n",
    "Y_iq = iq['total_cases']"
   ]
  },
  {
   "cell_type": "code",
   "execution_count": 31,
   "metadata": {
    "collapsed": false
   },
   "outputs": [
    {
     "name": "stdout",
     "output_type": "stream",
     "text": [
      "SVR complexity and bandwidth selected and model fitted in 7.523 s\n"
     ]
    }
   ],
   "source": [
    "train_size = 100\n",
    "svr = GridSearchCV(SVR(kernel='rbf', gamma=0.1), cv=5,\n",
    "                   param_grid={\"C\": [1e0, 1e1, 1e2, 1e3],\n",
    "                               \"gamma\": np.logspace(-2, 2, 5)})\n",
    "\n",
    "t0 = time.time()\n",
    "svr.fit(X_sj,Y_sj)\n",
    "svr_fit = time.time() - t0\n",
    "print(\"SVR complexity and bandwidth selected and model fitted in %.3f s\"\n",
    "      % svr_fit)"
   ]
  },
  {
   "cell_type": "code",
   "execution_count": 32,
   "metadata": {
    "collapsed": false
   },
   "outputs": [
    {
     "data": {
      "text/plain": [
       "SVR(C=1.0, cache_size=200, coef0=0.0, degree=3, epsilon=0.1, gamma=0.01,\n",
       "  kernel='rbf', max_iter=-1, shrinking=True, tol=0.001, verbose=False)"
      ]
     },
     "execution_count": 32,
     "metadata": {},
     "output_type": "execute_result"
    }
   ],
   "source": [
    "model_svr_sj=svr.best_estimator_\n",
    "model_svr_sj"
   ]
  },
  {
   "cell_type": "code",
   "execution_count": 33,
   "metadata": {
    "collapsed": false
   },
   "outputs": [
    {
     "name": "stdout",
     "output_type": "stream",
     "text": [
      "SVR complexity and bandwidth selected and model fitted in 4.743 s\n"
     ]
    }
   ],
   "source": [
    "train_size = 100\n",
    "svr = GridSearchCV(SVR(kernel='rbf', gamma=0.1), cv=5,\n",
    "                   param_grid={\"C\": [1e0, 1e1, 1e2, 1e3],\n",
    "                               \"gamma\": np.logspace(-2, 2, 5)})\n",
    "\n",
    "t0 = time.time()\n",
    "svr.fit(X_iq,Y_iq)\n",
    "svr_fit = time.time() - t0\n",
    "print(\"SVR complexity and bandwidth selected and model fitted in %.3f s\"\n",
    "      % svr_fit)"
   ]
  },
  {
   "cell_type": "code",
   "execution_count": 34,
   "metadata": {
    "collapsed": false
   },
   "outputs": [
    {
     "data": {
      "text/plain": [
       "SVR(C=1.0, cache_size=200, coef0=0.0, degree=3, epsilon=0.1,\n",
       "  gamma=0.10000000000000001, kernel='rbf', max_iter=-1, shrinking=True,\n",
       "  tol=0.001, verbose=False)"
      ]
     },
     "execution_count": 34,
     "metadata": {},
     "output_type": "execute_result"
    }
   ],
   "source": [
    "model_svr_iq=svr.best_estimator_\n",
    "model_svr_iq"
   ]
  },
  {
   "cell_type": "code",
   "execution_count": 35,
   "metadata": {
    "collapsed": false
   },
   "outputs": [
    {
     "data": {
      "text/plain": [
       "SVR(C=1.0, cache_size=200, coef0=0.0, degree=3, epsilon=0.1,\n",
       "  gamma=0.10000000000000001, kernel='rbf', max_iter=-1, shrinking=True,\n",
       "  tol=0.001, verbose=False)"
      ]
     },
     "execution_count": 35,
     "metadata": {},
     "output_type": "execute_result"
    }
   ],
   "source": [
    "model_svr_sj.fit(X_sj,Y_sj)\n",
    "model_svr_iq.fit(X_iq,Y_iq)"
   ]
  },
  {
   "cell_type": "code",
   "execution_count": 36,
   "metadata": {
    "collapsed": true
   },
   "outputs": [],
   "source": [
    "# test_model=SVR(C=10.0, cache_size=200, coef0=0.0, degree=3, epsilon=0.1,\n",
    "#   gamma=0.10000000000000001, kernel='rbf', max_iter=-1, shrinking=True,\n",
    "#   tol=0.001, verbose=False)"
   ]
  },
  {
   "cell_type": "code",
   "execution_count": 37,
   "metadata": {
    "collapsed": true
   },
   "outputs": [],
   "source": [
    "# test_model_iq=SVR(C=10.0, cache_size=200, coef0=0.0, degree=3, epsilon=0.1,\n",
    "#   gamma=0.10000000000000001, kernel='rbf', max_iter=-1, shrinking=True,\n",
    "#   tol=0.001, verbose=False)"
   ]
  },
  {
   "cell_type": "code",
   "execution_count": 38,
   "metadata": {
    "collapsed": false,
    "scrolled": true
   },
   "outputs": [],
   "source": [
    "# test_model.fit(sj_train_subtrain[features], sj_train_subtrain['total_cases'])"
   ]
  },
  {
   "cell_type": "code",
   "execution_count": 39,
   "metadata": {
    "collapsed": false
   },
   "outputs": [],
   "source": [
    "# test_model_iq.fit(iq_train_subtrain[features], iq_train_subtrain['total_cases'])"
   ]
  },
  {
   "cell_type": "code",
   "execution_count": 40,
   "metadata": {
    "collapsed": false
   },
   "outputs": [],
   "source": [
    "preds_sj_svr= model_svr_sj.predict(sj_train_subtest[features]).astype(int)\n",
    "preds_iq_svr=model_svr_iq.predict(iq_train_subtest[features]).astype(int)"
   ]
  },
  {
   "cell_type": "code",
   "execution_count": 41,
   "metadata": {
    "collapsed": true
   },
   "outputs": [],
   "source": [
    "sj_train_subtest['fitted'] = preds_sj_svr\n",
    "iq_train_subtest['fitted'] = preds_iq_svr"
   ]
  },
  {
   "cell_type": "code",
   "execution_count": 42,
   "metadata": {
    "collapsed": true
   },
   "outputs": [],
   "source": [
    "sj_train_subtest['fitted'] = preds_sj_svr\n",
    "iq_train_subtest['fitted'] = preds_iq_svr\n",
    "### reset axis\n",
    "sj_train_subtest.index = sj_train_subtest['week_start_date']\n",
    "iq_train_subtest.index = iq_train_subtest['week_start_date']"
   ]
  },
  {
   "cell_type": "code",
   "execution_count": 43,
   "metadata": {
    "collapsed": false,
    "scrolled": true
   },
   "outputs": [
    {
     "data": {
      "text/plain": [
       "<matplotlib.legend.Legend at 0x11413dda0>"
      ]
     },
     "execution_count": 43,
     "metadata": {},
     "output_type": "execute_result"
    },
    {
     "data": {
      "image/png": "[encoded data removed]",
      "text/plain": [
       "<matplotlib.figure.Figure at 0x11087d898>"
      ]
     },
     "metadata": {},
     "output_type": "display_data"
    }
   ],
   "source": [
    "sj_train_subtest['fitted'] = preds_sj_svr\n",
    "iq_train_subtest['fitted'] = preds_iq_svr\n",
    "### reset axis\n",
    "sj_train_subtest.index = sj_train_subtest['week_start_date']\n",
    "iq_train_subtest.index = iq_train_subtest['week_start_date']\n",
    "\n",
    "figs, axes = plt.subplots(nrows=2, ncols=1, figsize=(11, 9))\n",
    "sj_train_subtest.total_cases.plot(ax=axes[0], label=\"Actual\")\n",
    "sj_train_subtest.fitted.plot(ax=axes[0], label=\"Predictions\")\n",
    "\n",
    "iq_train_subtest.total_cases.plot(ax=axes[1], label=\"Actual\")\n",
    "iq_train_subtest.fitted.plot(ax=axes[1], label=\"Predictions\")\n",
    "\n",
    "plt.suptitle(\"Dengue Predicted Cases vs. Actual Cases\")\n",
    "plt.legend()"
   ]
  },
  {
   "cell_type": "markdown",
   "metadata": {},
   "source": [
    "## not satisfactory at all\n",
    "\n",
    "### clearly the model is unable to predict the spikes in disease outbreak\n",
    "#### I need to somehow account for the cases in previous weeks - either true or predicted\n",
    "#### Idea: use historical counts and/or predicted vals in the testing set where we have no counts and train the model using previous week counts as a feature"
   ]
  },
  {
   "cell_type": "code",
   "execution_count": 50,
   "metadata": {
    "collapsed": false
   },
   "outputs": [],
   "source": [
    "preds_sj_svr= model_svr_sj.predict(sj_test[features]).astype(float)\n",
    "preds_iq_svr=model_svr_iq.predict(iq_test[features]).astype(float)"
   ]
  },
  {
   "cell_type": "code",
   "execution_count": 45,
   "metadata": {
    "collapsed": false
   },
   "outputs": [],
   "source": [
    "submission = pd.read_csv(\"submission_format.csv\",\n",
    "                         index_col=[0, 1, 2])\n",
    "\n",
    "submission.total_cases = np.concatenate([preds_sj_svr, preds_iq_svr])\n",
    "#add a total cases column to the test df\n",
    "test['total_cases'] = np.concatenate([preds_sj_svr, preds_iq_svr])\n",
    "submission.to_csv(\"svr.csv\")"
   ]
  },
  {
   "cell_type": "markdown",
   "metadata": {},
   "source": [
    "### what i did to create dummy predictions for the test set for the next model iteration"
   ]
  },
  {
   "cell_type": "code",
   "execution_count": 46,
   "metadata": {
    "collapsed": false
   },
   "outputs": [],
   "source": [
    "test=test.join(df.groupby(['city','weekofyear'])['total_cases'].mean(), on=['city','weekofyear'], rsuffix='_avg')\n",
    "test=test.join(df.groupby(['city','weekofyear'])['total_cases'].std(), on=['city','weekofyear'], rsuffix='_std')\n",
    "test['total_cases']=test['total_cases']+test['total_cases_avg']"
   ]
  },
  {
   "cell_type": "code",
   "execution_count": 47,
   "metadata": {
    "collapsed": true
   },
   "outputs": [],
   "source": [
    "test['random']=np.random.uniform(low=0.0, high=1.0, size=len(test))\n",
    "#add some randomness\n",
    "test['total_cases']=test['total_cases_avg']*test['random']\n",
    "#uncomment to save file\n",
    "#test.to_csv(\"test2.csv\")"
   ]
  }
 ],
 "metadata": {
  "kernelspec": {
   "display_name": "Python 3",
   "language": "python",
   "name": "python3"
  },
  "language_info": {
   "codemirror_mode": {
    "name": "ipython",
    "version": 3
   },
   "file_extension": ".py",
   "mimetype": "text/x-python",
   "name": "python",
   "nbconvert_exporter": "python",
   "pygments_lexer": "ipython3",
   "version": "3.5.2"
  }
 },
 "nbformat": 4,
 "nbformat_minor": 0
}
